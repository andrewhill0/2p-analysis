{
 "cells": [
  {
   "cell_type": "code",
   "execution_count": null,
   "id": "ae0550f5",
   "metadata": {},
   "outputs": [],
   "source": [
    "import os\n",
    "import h5py\n",
    "import napari\n",
    "import pathlib\n",
    "import shutil\n",
    "import tifffile\n",
    "import scipy.io\n",
    "import numpy as np\n",
    "import SessionTools.two_photon as st2p\n",
    "from matplotlib import pyplot as plt"
   ]
  },
  {
   "cell_type": "code",
   "execution_count": null,
   "id": "e4753d77",
   "metadata": {},
   "outputs": [],
   "source": [
    "# Set experiment details.\n",
    "superdir = '/Users/andrewhill/Desktop/tbp'\n",
    "#superdir = '/Users/andrewhill/Fisher Lab Dropbox/Andrew Hill/2p-data-processed'\n",
    "expt = '250619-EPG-7f-5HT'\n",
    "fly = 'fly1'\n",
    "session = f'{fly}-005'\n",
    "\n",
    "# Make paths.\n",
    "exptdir = pathlib.PurePath(f'{superdir}/{expt}/{fly}/{session}-pv')\n",
    "point_to_xml_file = pathlib.Path(exptdir.joinpath(f'{session}'))\n",
    "point_to_tifs = pathlib.Path(exptdir.joinpath(f'{session}-tifs/{session}'))"
   ]
  },
  {
   "cell_type": "code",
   "execution_count": null,
   "id": "8270383f",
   "metadata": {},
   "outputs": [],
   "source": [
    "#\n",
    "metadata = st2p.preprocessing.bruker_metadata.read(point_to_xml_file)\n",
    "metadata['size']['z_planes']=metadata['layout']['frames_per_sequence']\n",
    "\n",
    "# \n",
    "tiff_data = st2p.preprocessing.tiff_tools.read(point_to_tifs, metadata['size'], \n",
    "                                               metadata['layout'], first_chan=2)\n",
    "tiff_data"
   ]
  },
  {
   "cell_type": "code",
   "execution_count": null,
   "id": "ac747930",
   "metadata": {},
   "outputs": [],
   "source": [
    "h5name = f'{exptdir}/{session}.h5'\n",
    "\n",
    "if not os.path.exists(h5name):\n",
    "    st2p.preprocessing.tiff_tools.convert_to_hdf5(tiff_data, h5name, overwrite=True)\n",
    "\n",
    "f = h5py.File(h5name)\n",
    "stack = f['/data'][:]\n",
    "stack.shape"
   ]
  },
  {
   "cell_type": "code",
   "execution_count": null,
   "id": "07a00727",
   "metadata": {},
   "outputs": [],
   "source": [
    "refimg = st2p.preprocessing.motion_correction.make_ref_img(stack, 0)\n",
    "refimg.shape"
   ]
  },
  {
   "cell_type": "code",
   "execution_count": null,
   "id": "e9276e41",
   "metadata": {},
   "outputs": [],
   "source": [
    "fig, axs = plt.subplots((refimg.shape[1]),1,figsize=(25,25))\n",
    "\n",
    "for i in range(refimg.shape[1]):\n",
    "    axs[i].imshow(refimg[0, i, :, :], cmap='Greys_r', origin='lower'); axs[i].axis('off')"
   ]
  },
  {
   "cell_type": "code",
   "execution_count": null,
   "id": "6c14532c",
   "metadata": {},
   "outputs": [],
   "source": [
    "data_corr, shifts, errors, diffphases = st2p.preprocessing.motion_correction.align_data_chunk(stack,\n",
    "                                             refimg[0,:,:,:], ref_channel = 0, in_place = True)\n",
    "data_corr.shape"
   ]
  },
  {
   "cell_type": "code",
   "execution_count": null,
   "id": "d0083ec1",
   "metadata": {},
   "outputs": [],
   "source": [
    "viewer1 = napari.Viewer()\n",
    "new_layer1 = viewer1.add_image(data_corr.mean(axis = 1))\n",
    "\n",
    "maxprojstack = np.max(data_corr, axis=2)\n",
    "viewer2 = napari.Viewer()\n",
    "new_layer2 = viewer2.add_image(maxprojstack.mean(axis = 1))"
   ]
  },
  {
   "cell_type": "code",
   "execution_count": null,
   "id": "b9f12d07",
   "metadata": {},
   "outputs": [],
   "source": [
    "label = tifffile.imread(f\"{exptdir}/{session}-ROI-mask.tif\")\n",
    "label = np.squeeze(label)\n",
    "label.shape"
   ]
  },
  {
   "cell_type": "code",
   "execution_count": null,
   "id": "56b21cd1",
   "metadata": {},
   "outputs": [],
   "source": [
    "# If ROI-mask.tif is a single plane that you want projected thru all the layers, use this:\n",
    "\n",
    "#label = tifffile.imread(f\"{exptdir}/{session}-ROI-mask.tif\")\n",
    "#label = np.squeeze(label)\n",
    "#label = np.repeat(label[np.newaxis, :, :], metadata['size']['z_planes'], axis=0)\n",
    "#label.shape"
   ]
  },
  {
   "cell_type": "code",
   "execution_count": null,
   "id": "8e64c19f",
   "metadata": {},
   "outputs": [],
   "source": [
    "viewerF = napari.Viewer()\n",
    "new_layerF1 = viewerF.add_image(np.squeeze(data_corr.mean(axis=1)))\n",
    "new_layerF2 = viewerF.add_labels(label)"
   ]
  },
  {
   "cell_type": "code",
   "execution_count": null,
   "id": "819df8be",
   "metadata": {},
   "outputs": [],
   "source": [
    "fig, axs = plt.subplots(1,2,figsize=(15,15))\n",
    "\n",
    "axs[0].imshow(maxprojstack.mean(axis=1)[0, :, :], cmap='Greys_r', origin='lower'); axs[0].axis('off')\n",
    "axs[1].imshow(label.mean(axis=0)[:,:], cmap='Greys_r', origin='lower'); axs[1].axis('off')"
   ]
  },
  {
   "cell_type": "code",
   "execution_count": null,
   "id": "ae402bea",
   "metadata": {},
   "outputs": [],
   "source": [
    "ROI_number = 16\n",
    "F_array_output = np.zeros((data_corr.shape[1], ROI_number))\n",
    "\n",
    "for time_point in range(data_corr.shape[1]):\n",
    "    current_volume = data_corr[0, time_point,:,:]\n",
    "    for ROI_index in range(1, ROI_number + 1):\n",
    "        mask = label == ROI_index\n",
    "        F_array_output[time_point, ROI_index - 1] = current_volume[mask].mean() \n",
    "\n",
    "if ROI_number > 1:        \n",
    "    fig, axs = plt.subplots(ROI_number, 1, figsize=(13, 12))\n",
    "    for i in range(ROI_number):\n",
    "        ax = axs[i]\n",
    "        ax.plot(F_array_output[:,i])\n",
    "    fig.supylabel('F',fontsize=20)\n",
    "    plt.xlabel('Frame Number', fontsize=20)\n",
    "    plt.show()\n",
    "else:\n",
    "    plt.figure(figsize= (25,7))\n",
    "    plt.plot(F_array_output)\n",
    "    plt.ylabel('F',fontsize=20)\n",
    "    plt.xlabel('Frame Number', fontsize=20)\n",
    "    plt.show()"
   ]
  },
  {
   "cell_type": "code",
   "execution_count": null,
   "id": "3f62eef9",
   "metadata": {},
   "outputs": [],
   "source": [
    "# Save raw F output as .npy and .mat.\n",
    "np.save(f'{exptdir}/{session}-F-array.npy', F_array_output)\n",
    "scipy.io.savemat(f'{exptdir}/{session}-F-array.mat', {'F_array_output': F_array_output})"
   ]
  },
  {
   "cell_type": "code",
   "execution_count": null,
   "id": "40d4af7f",
   "metadata": {},
   "outputs": [],
   "source": [
    "# Notes\n",
    "#\n",
    "#"
   ]
  },
  {
   "cell_type": "code",
   "execution_count": null,
   "id": "b2b43155",
   "metadata": {},
   "outputs": [],
   "source": [
    "!jupyter nbconvert --to html 'preprocessing.ipynb'"
   ]
  },
  {
   "cell_type": "code",
   "execution_count": null,
   "id": "b4fa9a6c",
   "metadata": {},
   "outputs": [],
   "source": [
    "shutil.move('/Users/andrewhill/py/2p-analysis/preprocessing.html', f'{exptdir}/preprocessing.html')"
   ]
  },
  {
   "cell_type": "code",
   "execution_count": null,
   "id": "36dea497",
   "metadata": {},
   "outputs": [],
   "source": []
  }
 ],
 "metadata": {
  "kernelspec": {
   "display_name": "SessionTools",
   "language": "python",
   "name": "python3"
  },
  "language_info": {
   "codemirror_mode": {
    "name": "ipython",
    "version": 3
   },
   "file_extension": ".py",
   "mimetype": "text/x-python",
   "name": "python",
   "nbconvert_exporter": "python",
   "pygments_lexer": "ipython3",
   "version": "3.11.13"
  }
 },
 "nbformat": 4,
 "nbformat_minor": 5
}
