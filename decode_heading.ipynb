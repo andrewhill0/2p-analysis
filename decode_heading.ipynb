{
 "cells": [
  {
   "cell_type": "code",
   "execution_count": null,
   "id": "5d95758c",
   "metadata": {},
   "outputs": [],
   "source": [
    "import tifffile\n",
    "import numpy as np\n",
    "import pandas as pd\n",
    "import seaborn as sns\n",
    "from scipy import signal\n",
    "from scipy import stats\n",
    "from matplotlib import pyplot as plt\n",
    "\n",
    "import hd_functions as hd"
   ]
  },
  {
   "cell_type": "code",
   "execution_count": null,
   "id": "d9cc68ca",
   "metadata": {},
   "outputs": [],
   "source": [
    "# Set experiment details.\n",
    "#superdir = '/Users/andrewhill/Desktop/tbp'\n",
    "superdir = '/Users/andrewhill/Fisher Lab Dropbox/Andrew Hill/2p-data-processed'\n",
    "expt = '250428-EPG-7f-5HT-200'\n",
    "fly = 'fly2'\n",
    "session = f'{fly}-001'\n",
    "rig = 'S' # 'S' for Smaug or 'G' for Galadriel"
   ]
  },
  {
   "cell_type": "code",
   "execution_count": null,
   "id": "679d6643",
   "metadata": {},
   "outputs": [],
   "source": [
    "rawF = np.load(f'{superdir}/{expt}/{fly}/{session}-pv/{session}-F-array.npy')\n",
    "\n",
    "num_rois = len(rawF[0, :])\n",
    "num_cycles = len(rawF)\n",
    "\n",
    "rawF.shape"
   ]
  },
  {
   "cell_type": "code",
   "execution_count": null,
   "id": "4416a13d",
   "metadata": {},
   "outputs": [],
   "source": [
    "# Convert raw fluorescence to ∆F/Fo with Fo equal to bottom 5th percentile of F values per glom.\n",
    "\n",
    "Fo_cutoff = 0.05 # Bottom fifth percentile?\n",
    "Fo = np.quantile(rawF, Fo_cutoff, axis = 0)\n",
    "\n",
    "dFF = np.zeros([num_cycles, num_rois])\n",
    "for r in range(num_rois):\n",
    "    dFF[:, r] = (rawF[:, r] - Fo[r])/(Fo[r])\n",
    "\n",
    "fig, axs = plt.subplots(num_rois, 1, figsize = (10,8))\n",
    "for r in range(num_rois):\n",
    "    ax = axs[r]\n",
    "    ax.plot(dFF[:, r])\n",
    "plt.show()"
   ]
  },
  {
   "cell_type": "code",
   "execution_count": null,
   "id": "8be322c1",
   "metadata": {},
   "outputs": [],
   "source": [
    "# Normalize ∆F/Fo to top 95th percentile of F values per glom.\n",
    "\n",
    "normF_cutoff = 0.95\n",
    "normF_factor = np.quantile(dFF, normF_cutoff, axis = 0)\n",
    "\n",
    "normF = np.zeros([num_cycles, num_rois])\n",
    "for r in range(num_rois):\n",
    "    normF[:, r] = dFF[:, r]/normF_factor[r]\n",
    "\n",
    "fig, axs = plt.subplots(num_rois, 1, figsize = (10,8))\n",
    "for r in range(num_rois):\n",
    "    ax = axs[r]\n",
    "    ax.plot(normF[:, r])\n",
    "plt.show()"
   ]
  },
  {
   "cell_type": "code",
   "execution_count": null,
   "id": "23d2d983",
   "metadata": {},
   "outputs": [],
   "source": [
    "# Median filter the normalized F. \n",
    "\n",
    "for r in range(num_rois):\n",
    "    normF[:, r] = signal.medfilt(normF[:, r], kernel_size = 3)\n",
    "\n",
    "fig, axs = plt.subplots(num_rois, 1, figsize = (10,8))\n",
    "for r in range(num_rois):\n",
    "    ax = axs[r]\n",
    "    ax.plot(normF[:, r])\n",
    "plt.show()"
   ]
  },
  {
   "cell_type": "code",
   "execution_count": null,
   "id": "671caac2",
   "metadata": {},
   "outputs": [],
   "source": [
    "normF_dataframe = pd.DataFrame(normF, columns = ['L8', 'L7', 'L6', 'L5', 'L4', 'L3', 'L2' ,'L1',\n",
    "                                                 'R1', 'R2', 'R3', 'R4', 'R5', 'R6', 'R7', 'R8'])\n",
    "\n",
    "normF_corr_matrix = normF_dataframe.corr()\n",
    "\n",
    "plt.figure(figsize = (5,5))\n",
    "sns.heatmap(normF_corr_matrix)\n",
    "plt.xlabel('ROI ID', fontsize = 10)\n",
    "plt.ylabel('ROI ID', fontsize = 10)\n",
    "plt.title('Normalized ∆F/Fo Correlation Matrix', fontsize = 15)\n",
    "plt.show()"
   ]
  },
  {
   "cell_type": "code",
   "execution_count": null,
   "id": "1fd520e7",
   "metadata": {},
   "outputs": [],
   "source": [
    "roi_mask = tifffile.imread(f'{superdir}/{expt}/{fly}/{session}-pv/{session}-ROI-mask.tif')\n",
    "roi_mask = np.squeeze(roi_mask)\n",
    "\n",
    "num_merged_rois = int(num_rois/2)\n",
    "normF_merged_bridges = hd.merge_gloms(normF, roi_mask, num_merged_rois)\n",
    "\n",
    "fig, axs = plt.subplots(num_merged_rois, 1, figsize = (10,6))\n",
    "for r in range(num_merged_rois):\n",
    "    ax = axs[r]\n",
    "    ax.plot(normF_merged_bridges[:, r])\n",
    "plt.show()"
   ]
  },
  {
   "cell_type": "code",
   "execution_count": null,
   "id": "dd7994bb",
   "metadata": {},
   "outputs": [],
   "source": [
    "# PVA\n",
    "\n",
    "PVA_rad, PVA_str = hd.PVA_calc(normF_merged_bridges)\n",
    "\n",
    "plt.figure(figsize = (40,8))\n",
    "plt.scatter(np.arange(len(PVA_rad)), PVA_rad, color = 'black')\n",
    "plt.show()"
   ]
  },
  {
   "cell_type": "code",
   "execution_count": null,
   "id": "394835cb",
   "metadata": {},
   "outputs": [],
   "source": [
    "normF_for_plot = normF_merged_bridges.transpose()\n",
    "normF_for_plot_shifted = np.zeros((np.size(normF_for_plot, 0), np.size(normF_for_plot, 1)))\n",
    "\n",
    "for r in range(len(normF_for_plot)):\n",
    "    normF_for_plot_shifted[r, :] = normF_for_plot[(r+4)%8, :]\n",
    "\n",
    "plt.figure(figsize = (40,8))\n",
    "plt.imshow(normF_for_plot_shifted, aspect = 'auto', cmap = 'Blues')\n",
    "plt.xlabel('Frame', fontsize = 40)\n",
    "plt.ylabel('Bump position', fontsize = 40)\n",
    "plt.xticks(ticks = plt.xticks()[0][0:], labels = np.array(plt.xticks()[0][0:], dtype = np.int64), fontsize = 30)\n",
    "plt.yticks(ticks = plt.yticks()[0][0:], labels = np.array(plt.yticks()[0][0:]+1, dtype = np.int64), fontsize = 30)\n",
    "plt.xlim(0, num_cycles)\n",
    "plt.ylim(0,7)\n",
    "\n",
    "plt.scatter(np.arange(len(PVA_rad)), ((PVA_rad+np.pi)/(2*np.pi))*7, color = 'black')\n",
    "\n",
    "plt.show()"
   ]
  },
  {
   "cell_type": "code",
   "execution_count": null,
   "id": "fa5940be",
   "metadata": {},
   "outputs": [],
   "source": [
    "# np.save(f'{superdir}/{expt}/{fly}/{session}-pv/{session}-PVA-rad-array.npy', PVA_rad)\n",
    "# np.save(f'{superdir}/{expt}/{fly}/{session}-pv/{session}-PVA-str-array.npy', PVA_str)"
   ]
  },
  {
   "cell_type": "code",
   "execution_count": null,
   "id": "1587cb22",
   "metadata": {},
   "outputs": [],
   "source": [
    "rawV = pd.read_csv(f'{superdir}/{expt}/{fly}/{session}-pv/{session}_Cycle00001_VoltageRecording_001.csv')\n",
    "rawV.shape"
   ]
  },
  {
   "cell_type": "code",
   "execution_count": null,
   "id": "d9e87259",
   "metadata": {},
   "outputs": [],
   "source": [
    "if rig == 'S':\n",
    "    raw_heading = rawV[' Heading']\n",
    "if rig == 'G':\n",
    "    raw_heading = rawV[' Input 4']\n",
    "    \n",
    "filt_heading = hd.low_pass_filter(raw_heading, 25, 50000)"
   ]
  },
  {
   "cell_type": "code",
   "execution_count": null,
   "id": "17b6ecc1",
   "metadata": {},
   "outputs": [],
   "source": [
    "heading = hd.downsample_to_vols(filt_heading, num_cycles)\n",
    "\n",
    "if rig == 'S':\n",
    "    heading = ((heading/10)*-2*np.pi)+np.pi\n",
    "if rig == 'G':\n",
    "    heading = ((heading/10)* 2*np.pi)-np.pi\n",
    "\n",
    "fig, axs = plt.subplots(2, 1, figsize = (12,4))\n",
    "axs[0].plot(PVA_rad); axs[1].set_ylim(-np.pi, np.pi)\n",
    "axs[1].plot(heading); axs[0].set_ylim(-np.pi, np.pi)\n",
    "plt.show()"
   ]
  },
  {
   "cell_type": "code",
   "execution_count": null,
   "id": "7fa41963",
   "metadata": {},
   "outputs": [],
   "source": [
    "heading2PVA_offset = (heading - PVA_rad)\n",
    "for t in range(len(heading2PVA_offset)):\n",
    "    if heading2PVA_offset[t] <= -np.pi:\n",
    "        heading2PVA_offset[t] += (2*np.pi)\n",
    "    if heading2PVA_offset[t] >= np.pi:\n",
    "        heading2PVA_offset[t] -= (2*np.pi)\n",
    "\n",
    "plt.figure(figsize = (12,2))\n",
    "plt.plot(heading2PVA_offset)\n",
    "plt.ylim(-np.pi, np.pi)\n",
    "plt.show()"
   ]
  },
  {
   "cell_type": "code",
   "execution_count": null,
   "id": "7170689d",
   "metadata": {},
   "outputs": [],
   "source": [
    "pi_bins = [np.pi*(-8/8),\n",
    "           np.pi*(-7/8),\n",
    "           np.pi*(-6/8),\n",
    "           np.pi*(-5/8),\n",
    "           np.pi*(-4/8),\n",
    "           np.pi*(-3/8),\n",
    "           np.pi*(-2/8),\n",
    "           np.pi*(-1/8),\n",
    "           np.pi*(0),\n",
    "           np.pi*(1/8),\n",
    "           np.pi*(2/8),\n",
    "           np.pi*(3/8),\n",
    "           np.pi*(4/8),\n",
    "           np.pi*(5/8),\n",
    "           np.pi*(6/8),\n",
    "           np.pi*(7/8),\n",
    "           np.pi*(8/8)]\n",
    "plt.hist(heading2PVA_offset, bins = pi_bins)\n",
    "plt.show()"
   ]
  },
  {
   "cell_type": "code",
   "execution_count": null,
   "id": "77c3ac15",
   "metadata": {},
   "outputs": [],
   "source": [
    "# Circular variance:\n",
    "\n",
    "offset_var = stats.circvar(heading2PVA_offset)\n",
    "offset_var"
   ]
  },
  {
   "cell_type": "code",
   "execution_count": null,
   "id": "d95ed3bd",
   "metadata": {},
   "outputs": [],
   "source": []
  }
 ],
 "metadata": {
  "kernelspec": {
   "display_name": "SessionTools",
   "language": "python",
   "name": "python3"
  },
  "language_info": {
   "codemirror_mode": {
    "name": "ipython",
    "version": 3
   },
   "file_extension": ".py",
   "mimetype": "text/x-python",
   "name": "python",
   "nbconvert_exporter": "python",
   "pygments_lexer": "ipython3",
   "version": "3.11.13"
  }
 },
 "nbformat": 4,
 "nbformat_minor": 5
}
