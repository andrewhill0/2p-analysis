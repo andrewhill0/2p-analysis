{
 "cells": [
  {
   "cell_type": "code",
   "execution_count": 1,
   "metadata": {
    "tags": []
   },
   "outputs": [],
   "source": [
    "import pathlib\n",
    "import os\n",
    "from glob import glob\n",
    "\n",
    "\n",
    "import pandas as pd\n",
    "import numpy as np\n",
    "import scipy as sp\n",
    "\n",
    "import SessionTools.two_photon as st2p\n",
    "\n",
    "\n",
    "%load_ext autoreload\n",
    "%autoreload 2 \n",
    "\n",
    "%matplotlib inline"
   ]
  },
  {
   "cell_type": "code",
   "execution_count": 2,
   "metadata": {
    "tags": []
   },
   "outputs": [],
   "source": [
    "# convert tiff stacks to hdf5\n",
    "date = \"28_10_2023\"\n",
    "genotype = \"ER4d_sytjGCaMP7f_EPG_jRGECO1a\"\n",
    "fly = \"fly1\"\n",
    "session = 'closed_loop-000'\n",
    "basedir = pathlib.PurePath(f'/media/mplitt/SSD_storage/2PData/{genotype}/{date}/{fly}/{session}/')\n",
    "basename_input = pathlib.Path(basedir.joinpath(session))\n",
    "metadata = st2p.preprocessing.bruker_metadata.read(basename_input)\n"
   ]
  },
  {
   "cell_type": "code",
   "execution_count": 3,
   "metadata": {
    "tags": []
   },
   "outputs": [],
   "source": [
    "\n",
    "csv_files = glob(f'/media/mplitt/SSD_storage/2PData/{genotype}/{date}/{fly}/{session}/*.csv')\n",
    "vr_file = pathlib.Path(csv_files[0])\n",
    "df = dd.read_csv(vr_file).compute()"
   ]
  },
  {
   "cell_type": "code",
   "execution_count": 4,
   "metadata": {
    "tags": []
   },
   "outputs": [],
   "source": [
    "frame_times = np.array(metadata['frame_times']).mean(axis=-1)*1000\n",
    "df_aligned = st2p.preprocessing.signals.align_vr_2p(df,frame_times)"
   ]
  },
  {
   "cell_type": "code",
   "execution_count": 5,
   "metadata": {
    "tags": []
   },
   "outputs": [
    {
     "data": {
      "text/html": [
       "<div>\n",
       "<style scoped>\n",
       "    .dataframe tbody tr th:only-of-type {\n",
       "        vertical-align: middle;\n",
       "    }\n",
       "\n",
       "    .dataframe tbody tr th {\n",
       "        vertical-align: top;\n",
       "    }\n",
       "\n",
       "    .dataframe thead th {\n",
       "        text-align: right;\n",
       "    }\n",
       "</style>\n",
       "<table border=\"1\" class=\"dataframe\">\n",
       "  <thead>\n",
       "    <tr style=\"text-align: right;\">\n",
       "      <th></th>\n",
       "      <th>Time(ms)</th>\n",
       "      <th>Start Trigger</th>\n",
       "      <th>Opto Trigger</th>\n",
       "      <th>FicTrac Cam Exp.</th>\n",
       "      <th>FicTrac Frame Proc.</th>\n",
       "      <th>Heading</th>\n",
       "      <th>Y/Index</th>\n",
       "      <th>Arena DAC1</th>\n",
       "      <th>Arena DAC2</th>\n",
       "      <th>Heading_cartx</th>\n",
       "      <th>Heading_carty</th>\n",
       "      <th>Arena DAC1_cartx</th>\n",
       "      <th>Arena DAC1_carty</th>\n",
       "    </tr>\n",
       "  </thead>\n",
       "  <tbody>\n",
       "    <tr>\n",
       "      <th>0</th>\n",
       "      <td>67.525596</td>\n",
       "      <td>1.0</td>\n",
       "      <td>0.0</td>\n",
       "      <td>1.0</td>\n",
       "      <td>32.0</td>\n",
       "      <td>-1.922070</td>\n",
       "      <td>0.004883</td>\n",
       "      <td>-1.906271</td>\n",
       "      <td>5.070801</td>\n",
       "      <td>-0.344094</td>\n",
       "      <td>-0.938935</td>\n",
       "      <td>-0.329217</td>\n",
       "      <td>-0.944252</td>\n",
       "    </tr>\n",
       "    <tr>\n",
       "      <th>1</th>\n",
       "      <td>202.576788</td>\n",
       "      <td>0.0</td>\n",
       "      <td>0.0</td>\n",
       "      <td>0.0</td>\n",
       "      <td>64.0</td>\n",
       "      <td>-1.940003</td>\n",
       "      <td>0.005493</td>\n",
       "      <td>-1.905317</td>\n",
       "      <td>5.074158</td>\n",
       "      <td>-0.360876</td>\n",
       "      <td>-0.932614</td>\n",
       "      <td>-0.328317</td>\n",
       "      <td>-0.944567</td>\n",
       "    </tr>\n",
       "    <tr>\n",
       "      <th>2</th>\n",
       "      <td>337.627980</td>\n",
       "      <td>0.0</td>\n",
       "      <td>0.0</td>\n",
       "      <td>0.0</td>\n",
       "      <td>63.0</td>\n",
       "      <td>-1.919357</td>\n",
       "      <td>0.005798</td>\n",
       "      <td>-1.904354</td>\n",
       "      <td>5.082092</td>\n",
       "      <td>-0.341545</td>\n",
       "      <td>-0.939865</td>\n",
       "      <td>-0.327405</td>\n",
       "      <td>-0.944879</td>\n",
       "    </tr>\n",
       "    <tr>\n",
       "      <th>3</th>\n",
       "      <td>472.679172</td>\n",
       "      <td>0.0</td>\n",
       "      <td>0.0</td>\n",
       "      <td>0.0</td>\n",
       "      <td>64.0</td>\n",
       "      <td>-1.906810</td>\n",
       "      <td>0.004883</td>\n",
       "      <td>-1.906595</td>\n",
       "      <td>5.070190</td>\n",
       "      <td>-0.329726</td>\n",
       "      <td>-0.944077</td>\n",
       "      <td>-0.329523</td>\n",
       "      <td>-0.944147</td>\n",
       "    </tr>\n",
       "    <tr>\n",
       "      <th>4</th>\n",
       "      <td>607.730364</td>\n",
       "      <td>0.0</td>\n",
       "      <td>0.0</td>\n",
       "      <td>0.0</td>\n",
       "      <td>63.0</td>\n",
       "      <td>-1.904331</td>\n",
       "      <td>0.006104</td>\n",
       "      <td>-1.906850</td>\n",
       "      <td>5.066528</td>\n",
       "      <td>-0.327385</td>\n",
       "      <td>-0.944891</td>\n",
       "      <td>-0.329762</td>\n",
       "      <td>-0.944059</td>\n",
       "    </tr>\n",
       "  </tbody>\n",
       "</table>\n",
       "</div>"
      ],
      "text/plain": [
       "     Time(ms)   Start Trigger   Opto Trigger   FicTrac Cam Exp.  \\\n",
       "0   67.525596             1.0            0.0                1.0   \n",
       "1  202.576788             0.0            0.0                0.0   \n",
       "2  337.627980             0.0            0.0                0.0   \n",
       "3  472.679172             0.0            0.0                0.0   \n",
       "4  607.730364             0.0            0.0                0.0   \n",
       "\n",
       "    FicTrac Frame Proc.   Heading   Y/Index   Arena DAC1   Arena DAC2  \\\n",
       "0                  32.0 -1.922070  0.004883    -1.906271     5.070801   \n",
       "1                  64.0 -1.940003  0.005493    -1.905317     5.074158   \n",
       "2                  63.0 -1.919357  0.005798    -1.904354     5.082092   \n",
       "3                  64.0 -1.906810  0.004883    -1.906595     5.070190   \n",
       "4                  63.0 -1.904331  0.006104    -1.906850     5.066528   \n",
       "\n",
       "    Heading_cartx   Heading_carty   Arena DAC1_cartx   Arena DAC1_carty  \n",
       "0       -0.344094       -0.938935          -0.329217          -0.944252  \n",
       "1       -0.360876       -0.932614          -0.328317          -0.944567  \n",
       "2       -0.341545       -0.939865          -0.327405          -0.944879  \n",
       "3       -0.329726       -0.944077          -0.329523          -0.944147  \n",
       "4       -0.327385       -0.944891          -0.329762          -0.944059  "
      ]
     },
     "execution_count": 5,
     "metadata": {},
     "output_type": "execute_result"
    }
   ],
   "source": [
    "df_aligned.head()"
   ]
  },
  {
   "cell_type": "code",
   "execution_count": null,
   "metadata": {},
   "outputs": [],
   "source": []
  }
 ],
 "metadata": {
  "kernelspec": {
   "display_name": "Python 3 (ipykernel)",
   "language": "python",
   "name": "python3"
  },
  "language_info": {
   "codemirror_mode": {
    "name": "ipython",
    "version": 3
   },
   "file_extension": ".py",
   "mimetype": "text/x-python",
   "name": "python",
   "nbconvert_exporter": "python",
   "pygments_lexer": "ipython3",
   "version": "3.10.8"
  }
 },
 "nbformat": 4,
 "nbformat_minor": 4
}
