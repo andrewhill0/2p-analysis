{
 "cells": [
  {
   "cell_type": "code",
   "execution_count": 12,
   "id": "f485dfac-8a9c-47e2-98da-9224c0b3f084",
   "metadata": {},
   "outputs": [
    {
     "name": "stdout",
     "output_type": "stream",
     "text": [
      "The autoreload extension is already loaded. To reload it, use:\n",
      "  %reload_ext autoreload\n"
     ]
    }
   ],
   "source": [
    "import os \n",
    "import pathlib\n",
    "from xml.etree import ElementTree\n",
    "\n",
    "import dask\n",
    "import dask.array as da\n",
    "from matplotlib import pyplot as plt\n",
    "\n",
    "import SessionTools as st \n",
    "import SessionTools.two_photon\n",
    "\n",
    "%load_ext autoreload\n",
    "%autoreload 2 \n",
    "\n",
    "%matplotlib inline"
   ]
  },
  {
   "cell_type": "code",
   "execution_count": 14,
   "id": "0a8b3d79-c632-4b4c-aca5-013a89046ed2",
   "metadata": {},
   "outputs": [],
   "source": [
    "basedir = pathlib.PurePath('/media/mplitt/SSD_storage/2PData/12_16_2022/EPG_GCaMP7f_CsChrimsontdT_fly1/fixed_cw_remapping-000/')\n",
    "session = \"fixed_cw_remapping-000\"\n",
    "\n",
    "\n",
    "basename_input = pathlib.Path(basedir.joinpath(session)).with_suffix('.xml')\n",
    "fname_xml = basename_input.with_suffix('.xml')\n",
    "fname_vr_xml = pathlib.Path(str(basename_input) + '_Cycle00001_VoltageRecording_001').with_suffix('.xml')\n",
    "fname_mp_xml = pathlib.Path(str(basename_input) + '_Cycle00001_MarkPoints').with_suffix('.xml')\n",
    "\n",
    "mdata_root = ElementTree.parse(fname_xml).getroot()\n",
    "    \n",
    "class MetadataError(Exception):\n",
    "    \"\"\"Error while extracting metadata.\"\"\"\n",
    "# st.two_photon.metadata.read(basename_input,pathlib.Path('.'))"
   ]
  },
  {
   "cell_type": "code",
   "execution_count": 15,
   "id": "9b3a57d2",
   "metadata": {},
   "outputs": [],
   "source": [
    "def state_value(key, type_fn=str):\n",
    "    element = mdata_root.find(f'.//PVStateValue[@key=\"{key}\"]')\n",
    "    value = element.attrib['value']\n",
    "    return type_fn(value)\n",
    "\n",
    "def indexed_value(key, index, type_fn=None, required=True):\n",
    "    element = mdata_root.find(f'.//PVStateValue[@key=\"{key}\"]/IndexedValue[@index=\"{index}\"]')\n",
    "    if element is None:\n",
    "        if required:\n",
    "            raise MetadataError('Could not find required key:index of %s:%s' % (key, index))\n",
    "        return None\n",
    "    value = element.attrib['value']\n",
    "    return type_fn(value)"
   ]
  },
  {
   "cell_type": "code",
   "execution_count": 17,
   "id": "aaadbf37",
   "metadata": {},
   "outputs": [],
   "source": [
    "sequences = mdata_root.findall('Sequence')\n",
    "num_sequences = len(sequences)\n",
    "\n",
    "num_frames_per_sequence = len(sequences[0].findall('Frame'))\n",
    "\n",
    "if num_sequences == 1:\n",
    "    num_frames = num_frames_per_sequence\n",
    "    num_z_planes = 1\n",
    "else:\n",
    "    # If the last sequence has a different number of frames, ignore it.\n",
    "    num_frames_last_sequence = len(sequences[-1].findall('Frame'))\n",
    "    if num_frames_per_sequence != num_frames_last_sequence:\n",
    "        logging.warning('Skipping final stack because it was found with fewer z-planes (%d, expected: %d).',\n",
    "                        num_frames_last_sequence, num_frames_per_sequence)\n",
    "        num_sequences -= 1\n",
    "    num_frames = num_sequences\n",
    "    num_z_planes = num_frames_per_sequence\n"
   ]
  },
  {
   "cell_type": "code",
   "execution_count": 19,
   "id": "0100aa9b",
   "metadata": {},
   "outputs": [],
   "source": [
    "num_channels = len(mdata_root.find('Sequence/Frame').findall('File'))\n",
    "num_y_px = state_value('linesPerFrame', int)\n",
    "num_x_px = state_value('pixelsPerLine', int)"
   ]
  },
  {
   "cell_type": "code",
   "execution_count": 29,
   "id": "0f33bee9",
   "metadata": {},
   "outputs": [],
   "source": [
    "laser_power = indexed_value('laserPower', '0', float, required=False)"
   ]
  },
  {
   "cell_type": "code",
   "execution_count": 31,
   "id": "8f95882b",
   "metadata": {},
   "outputs": [],
   "source": [
    "key, index = 'laserPower', 0\n",
    "element = mdata_root.find(f'.//PVStateValue[@key=\"{key}\"]/IndexedValue[@index=\"{index}\"]')"
   ]
  },
  {
   "cell_type": "code",
   "execution_count": 38,
   "id": "c02f35db",
   "metadata": {},
   "outputs": [
    {
     "data": {
      "text/plain": [
       "<Element 'IndexedValue' at 0x7fd1ffd53ec0>"
      ]
     },
     "execution_count": 38,
     "metadata": {},
     "output_type": "execute_result"
    }
   ],
   "source": [
    "element"
   ]
  },
  {
   "cell_type": "code",
   "execution_count": 36,
   "id": "d3ae545e",
   "metadata": {},
   "outputs": [
    {
     "data": {
      "text/plain": [
       "229.98046875"
      ]
     },
     "execution_count": 36,
     "metadata": {},
     "output_type": "execute_result"
    }
   ],
   "source": [
    "float(element.attrib['value'])"
   ]
  },
  {
   "cell_type": "code",
   "execution_count": 30,
   "id": "263d1c95",
   "metadata": {},
   "outputs": [],
   "source": [
    "laser_power"
   ]
  },
  {
   "cell_type": "code",
   "execution_count": null,
   "id": "b7737f1e",
   "metadata": {},
   "outputs": [],
   "source": []
  }
 ],
 "metadata": {
  "kernelspec": {
   "display_name": "SessionTools",
   "language": "python",
   "name": "python3"
  },
  "language_info": {
   "codemirror_mode": {
    "name": "ipython",
    "version": 3
   },
   "file_extension": ".py",
   "mimetype": "text/x-python",
   "name": "python",
   "nbconvert_exporter": "python",
   "pygments_lexer": "ipython3",
   "version": "3.11.0"
  },
  "vscode": {
   "interpreter": {
    "hash": "3c431136da9c6638588b30e2b30f036dca31bbcf88b046e85169fff06f2cce18"
   }
  }
 },
 "nbformat": 4,
 "nbformat_minor": 5
}
