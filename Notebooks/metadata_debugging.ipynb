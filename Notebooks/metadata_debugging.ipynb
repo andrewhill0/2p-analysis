{
 "cells": [
  {
   "cell_type": "code",
   "execution_count": 1,
   "id": "f485dfac-8a9c-47e2-98da-9224c0b3f084",
   "metadata": {},
   "outputs": [],
   "source": [
    "import os \n",
    "import pathlib\n",
    "from xml.etree import ElementTree\n",
    "\n",
    "import dask\n",
    "import dask.array as da\n",
    "from matplotlib import pyplot as plt\n",
    "\n",
    "import SessionTools as st \n",
    "import SessionTools.two_photon\n",
    "\n",
    "%load_ext autoreload\n",
    "%autoreload 2 \n",
    "\n",
    "%matplotlib inline"
   ]
  },
  {
   "cell_type": "code",
   "execution_count": 8,
   "id": "6f5e2bfc",
   "metadata": {},
   "outputs": [],
   "source": [
    "basedir = pathlib.PurePath('/media/mplitt/SSD_storage/2PData/12_16_2022/EPG_GCaMP7f_CsChrimsontdT_fly1/fixed_cw_remapping-000/')\n",
    "session = \"fixed_cw_remapping-000\"\n",
    "basename_input = pathlib.Path(basedir.joinpath(session))\n",
    "\n",
    "metadata = st.two_photon.metadata.read(basename_input,pathlib.Path('.'))"
   ]
  },
  {
   "cell_type": "code",
   "execution_count": 9,
   "id": "80013e74",
   "metadata": {},
   "outputs": [
    {
     "data": {
      "text/plain": [
       "{'layout': {'sequences': 3280,\n",
       "  'frames_per_sequence': 7,\n",
       "  'samples_per_pixel': 6},\n",
       " 'size': {'frames': 3280,\n",
       "  'channels': 2,\n",
       "  'z_planes': 7,\n",
       "  'y_px': 208,\n",
       "  'x_px': None,\n",
       "  'x_pix': 259},\n",
       " 'pixel_size': {'x': 0.330179899491773, 'y': 0.330179899491773, 'z': 5.0},\n",
       " 'laser_power': {'Axon 920': 229.98046875, 'Axon 1064': 0.0, '617': 0.0},\n",
       " 'frame_period': 0.013502758,\n",
       " 'line_period': 6.3097e-05,\n",
       " 'optical_zoom': 4.834340962,\n",
       " 'pmts': {0: 839.3258666992, 1: 829.0},\n",
       " 'preamp_filter': 'NoFilter',\n",
       " 'preamp_offsets': {0: '-0.11', 1: '-0.06'},\n",
       " 'scan_mode': 'ResonantGalvo',\n",
       " 'bit_depth': 13,\n",
       " 'voltage_recording': {'channels': {0: {'name': 'Input 0', 'enabled': True},\n",
       "   1: {'name': 'Input 1', 'enabled': True},\n",
       "   2: {'name': 'Input 2', 'enabled': True},\n",
       "   3: {'name': 'Input 3', 'enabled': True},\n",
       "   4: {'name': 'Input 4', 'enabled': True},\n",
       "   5: {'name': 'Input 5', 'enabled': True},\n",
       "   6: {'name': 'Input 6', 'enabled': True},\n",
       "   7: {'name': 'Input 7', 'enabled': True}},\n",
       "  'acquisition_rate': 50000,\n",
       "  'acquisition_time': 360095,\n",
       "  'num_samples_acquired': 18004801,\n",
       "  'trigger': 'PFI0',\n",
       "  'trigger_count': 1},\n",
       " 'mark_points': {'iterations': 1,\n",
       "  'iteration_delay': 1000.0,\n",
       "  'repetitions': 1,\n",
       "  'uncaging_laser': 'Axon 1064',\n",
       "  'trigger': 'PFI1',\n",
       "  'trigger_freq': 'EveryPoint',\n",
       "  'trigger_count': 1,\n",
       "  'uncaging_power': 1000,\n",
       "  'custom_laser_power': [0.0,\n",
       "   200.0,\n",
       "   200.0,\n",
       "   200.0,\n",
       "   200.0,\n",
       "   200.0,\n",
       "   200.0,\n",
       "   200.0,\n",
       "   200.0,\n",
       "   1000.0],\n",
       "  'initial_delay': 0.26,\n",
       "  'inter_point_delay': 5.0,\n",
       "  'duration': 1800.0,\n",
       "  'spiral_revolutions': 5,\n",
       "  'indices': '9, 1-8',\n",
       "  'points_list': [{'Index': 9.0,\n",
       "    'X': 0.478051178019836,\n",
       "    'Y': 0.470622406029685,\n",
       "    'IsSpiral': True,\n",
       "    'SpiralWidth': 0.175404553712092,\n",
       "    'SpiralHeight': 0.218412401016499,\n",
       "    'SpiralSizeInMicrons': 15.0},\n",
       "   {'Index': 1.0,\n",
       "    'X': 0.458795692320208,\n",
       "    'Y': 0.242064813692802,\n",
       "    'IsSpiral': True,\n",
       "    'SpiralWidth': 0.175404553712092,\n",
       "    'SpiralHeight': 0.218412401016499,\n",
       "    'SpiralSizeInMicrons': 15.0},\n",
       "   {'Index': 2.0,\n",
       "    'X': 0.626122396944194,\n",
       "    'Y': 0.284524507478581,\n",
       "    'IsSpiral': True,\n",
       "    'SpiralWidth': 0.175404553712092,\n",
       "    'SpiralHeight': 0.218412401016499,\n",
       "    'SpiralSizeInMicrons': 15.0},\n",
       "   {'Index': 3.0,\n",
       "    'X': 0.70849204245411,\n",
       "    'Y': 0.44832192877684,\n",
       "    'IsSpiral': True,\n",
       "    'SpiralWidth': 0.175404553712092,\n",
       "    'SpiralHeight': 0.218412401016499,\n",
       "    'SpiralSizeInMicrons': 15.0},\n",
       "   {'Index': 4.0,\n",
       "    'X': 0.64642263011489,\n",
       "    'Y': 0.620278227341245,\n",
       "    'IsSpiral': True,\n",
       "    'SpiralWidth': 0.175404553712092,\n",
       "    'SpiralHeight': 0.218412401016499,\n",
       "    'SpiralSizeInMicrons': 15.0},\n",
       "   {'Index': 5.0,\n",
       "    'X': 0.536388054764525,\n",
       "    'Y': 0.699937776689749,\n",
       "    'IsSpiral': True,\n",
       "    'SpiralWidth': 0.175404553712092,\n",
       "    'SpiralHeight': 0.218412401016499,\n",
       "    'SpiralSizeInMicrons': 15.0},\n",
       "   {'Index': 6.0,\n",
       "    'X': 0.374011364071885,\n",
       "    'Y': 0.691474249260418,\n",
       "    'IsSpiral': True,\n",
       "    'SpiralWidth': 0.175404553712092,\n",
       "    'SpiralHeight': 0.218412401016499,\n",
       "    'SpiralSizeInMicrons': 15.0},\n",
       "   {'Index': 7.0,\n",
       "    'X': 0.287507878627307,\n",
       "    'Y': 0.546575129614375,\n",
       "    'IsSpiral': True,\n",
       "    'SpiralWidth': 0.175404553712092,\n",
       "    'SpiralHeight': 0.218412401016499,\n",
       "    'SpiralSizeInMicrons': 15.0},\n",
       "   {'Index': 8.0,\n",
       "    'X': 0.302157658973255,\n",
       "    'Y': 0.360484336231897,\n",
       "    'IsSpiral': True,\n",
       "    'SpiralWidth': 0.175404553712092,\n",
       "    'SpiralHeight': 0.218412401016499,\n",
       "    'SpiralSizeInMicrons': 15.0}]}}"
      ]
     },
     "execution_count": 9,
     "metadata": {},
     "output_type": "execute_result"
    }
   ],
   "source": [
    "metadata"
   ]
  },
  {
   "cell_type": "code",
   "execution_count": null,
   "id": "0a8b3d79-c632-4b4c-aca5-013a89046ed2",
   "metadata": {},
   "outputs": [],
   "source": [
    "basedir = pathlib.PurePath('/media/mplitt/SSD_storage/2PData/12_16_2022/EPG_GCaMP7f_CsChrimsontdT_fly1/fixed_cw_remapping-000/')\n",
    "session = \"fixed_cw_remapping-000\"\n",
    "\n",
    "\n",
    "basename_input = pathlib.Path(basedir.joinpath(session))\n",
    "fname_xml = basename_input.with_suffix('.xml')\n",
    "print(os.path.exists(fname_xml))\n",
    "fname_vr_xml = pathlib.Path(str(basename_input) + '_Cycle00001_VoltageRecording_001').with_suffix('.xml')\n",
    "\n",
    "\n",
    "\n",
    "fname_mp_xml = pathlib.Path(str(basename_input) + '_Cycle00001_MarkPoints').with_suffix('.xml')\n",
    "\n",
    "mdata_root = ElementTree.parse(fname_xml).getroot()\n",
    "    \n",
    "class MetadataError(Exception):\n",
    "    \"\"\"Error while extracting metadata.\"\"\"\n",
    "# st.two_photon.metadata.read(basename_input,pathlib.Path('.'))"
   ]
  },
  {
   "cell_type": "code",
   "execution_count": null,
   "id": "9b3a57d2",
   "metadata": {},
   "outputs": [],
   "source": [
    "def state_value(key, type_fn=str):\n",
    "    element = mdata_root.find(f'.//PVStateValue[@key=\"{key}\"]')\n",
    "    value = element.attrib['value']\n",
    "    return type_fn(value)\n",
    "\n",
    "def indexed_value(key, index, type_fn=None, required=True):\n",
    "    element = mdata_root.find(f'.//PVStateValue[@key=\"{key}\"]/IndexedValue[@index=\"{index}\"]')\n",
    "    if element is None:\n",
    "        if required:\n",
    "            raise MetadataError('Could not find required key:index of %s:%s' % (key, index))\n",
    "        return None\n",
    "    value = element.attrib['value']\n",
    "    return type_fn(value)"
   ]
  },
  {
   "cell_type": "code",
   "execution_count": null,
   "id": "aaadbf37",
   "metadata": {},
   "outputs": [],
   "source": [
    "sequences = mdata_root.findall('Sequence')\n",
    "num_sequences = len(sequences)\n",
    "\n",
    "num_frames_per_sequence = len(sequences[0].findall('Frame'))\n",
    "\n",
    "if num_sequences == 1:\n",
    "    num_frames = num_frames_per_sequence\n",
    "    num_z_planes = 1\n",
    "else:\n",
    "    # If the last sequence has a different number of frames, ignore it.\n",
    "    num_frames_last_sequence = len(sequences[-1].findall('Frame'))\n",
    "    if num_frames_per_sequence != num_frames_last_sequence:\n",
    "        logging.warning('Skipping final stack because it was found with fewer z-planes (%d, expected: %d).',\n",
    "                        num_frames_last_sequence, num_frames_per_sequence)\n",
    "        num_sequences -= 1\n",
    "    num_frames = num_sequences\n",
    "    num_z_planes = num_frames_per_sequence\n"
   ]
  },
  {
   "cell_type": "code",
   "execution_count": null,
   "id": "0100aa9b",
   "metadata": {},
   "outputs": [],
   "source": [
    "num_channels = len(mdata_root.find('Sequence/Frame').findall('File'))\n",
    "num_y_px = state_value('linesPerFrame', int)\n",
    "num_x_px = state_value('pixelsPerLine', int)"
   ]
  },
  {
   "cell_type": "code",
   "execution_count": null,
   "id": "0f33bee9",
   "metadata": {},
   "outputs": [],
   "source": [
    "laser_power = indexed_value('laserPower', '0', float, required=False)"
   ]
  },
  {
   "cell_type": "code",
   "execution_count": null,
   "id": "8f95882b",
   "metadata": {},
   "outputs": [],
   "source": [
    "mdata_root.findall('pmtGain')"
   ]
  },
  {
   "cell_type": "code",
   "execution_count": null,
   "id": "c02f35db",
   "metadata": {},
   "outputs": [],
   "source": [
    "element = mdata_root.find(f'.//PVStateValue[@key=\"preampOffset\"]/SubindexedValues[@index=\"0\"]') #/SubIndexedValue[@subindex=\"0\"]')\n",
    "subelement = element.find('.//SubindexedValue[@subindex=\"0\"]').attrib\n",
    "print(subelement)"
   ]
  },
  {
   "cell_type": "code",
   "execution_count": null,
   "id": "389348ef",
   "metadata": {},
   "outputs": [],
   "source": [
    "print(element)"
   ]
  },
  {
   "cell_type": "code",
   "execution_count": null,
   "id": "d3ae545e",
   "metadata": {},
   "outputs": [],
   "source": [
    "element.findall('.//SubindexedValue[@subindex=\"0\"]')"
   ]
  },
  {
   "cell_type": "code",
   "execution_count": null,
   "id": "b0639751",
   "metadata": {},
   "outputs": [],
   "source": [
    "element.value"
   ]
  },
  {
   "cell_type": "code",
   "execution_count": null,
   "id": "263d1c95",
   "metadata": {},
   "outputs": [],
   "source": [
    "laser_power"
   ]
  },
  {
   "cell_type": "code",
   "execution_count": null,
   "id": "b7737f1e",
   "metadata": {},
   "outputs": [],
   "source": [
    "voltage_root = ElementTree.parse(fname_vr_xml).getroot()"
   ]
  },
  {
   "cell_type": "code",
   "execution_count": null,
   "id": "7084d5a1",
   "metadata": {},
   "outputs": [],
   "source": [
    "channels = {}\n",
    "for signal in voltage_root.findall('Experiment/SignalList/VRecSignal'):\n",
    "    channel_num = int(signal.find('Channel').text)\n",
    "    channel_name = signal.find('Name').text\n",
    "    enabled = signal.find('Enabled').text == 'true'\n",
    "    channels[channel_num] = {'name': channel_name, 'enabled': enabled}"
   ]
  },
  {
   "cell_type": "code",
   "execution_count": null,
   "id": "0a5c3a8c",
   "metadata": {},
   "outputs": [],
   "source": [
    "channels"
   ]
  },
  {
   "cell_type": "code",
   "execution_count": null,
   "id": "7f851f1f",
   "metadata": {},
   "outputs": [],
   "source": [
    "int(voltage_root.find('Experiment/AcquisitionTime').text)"
   ]
  },
  {
   "cell_type": "code",
   "execution_count": null,
   "id": "df66c16e",
   "metadata": {},
   "outputs": [],
   "source": [
    "fname_vr_xml"
   ]
  },
  {
   "cell_type": "code",
   "execution_count": null,
   "id": "c3bc7084",
   "metadata": {},
   "outputs": [],
   "source": [
    "fname_mp_xml "
   ]
  },
  {
   "cell_type": "code",
   "execution_count": null,
   "id": "20930bc5",
   "metadata": {},
   "outputs": [],
   "source": [
    "markpoints_root = ElementTree.parse(fname_mp_xml).getroot()\n"
   ]
  },
  {
   "cell_type": "code",
   "execution_count": null,
   "id": "6b6c5041",
   "metadata": {},
   "outputs": [],
   "source": [
    "markpoints_root.find('PVMarkPointElement').attrib"
   ]
  },
  {
   "cell_type": "code",
   "execution_count": null,
   "id": "940cbae1",
   "metadata": {},
   "outputs": [],
   "source": [
    "ps = [float(p)/16384.*1000 for p in markpoints_root.find('PVMarkPointElement').attrib['CustomLaserPower'].split(',')]"
   ]
  },
  {
   "cell_type": "code",
   "execution_count": null,
   "id": "56428e5f",
   "metadata": {},
   "outputs": [],
   "source": [
    "ps"
   ]
  },
  {
   "cell_type": "code",
   "execution_count": null,
   "id": "e960c09d",
   "metadata": {},
   "outputs": [],
   "source": [
    "element = markpoints_root.findall('PVMarkPointElement/PVGalvoPointElement/Point')"
   ]
  },
  {
   "cell_type": "code",
   "execution_count": null,
   "id": "61048350",
   "metadata": {},
   "outputs": [],
   "source": [
    "element"
   ]
  },
  {
   "cell_type": "code",
   "execution_count": null,
   "id": "921ec226",
   "metadata": {},
   "outputs": [],
   "source": [
    "points = markpoints_root.findall('PVMarkPointElement/PVGalvoPointElement/Point')\n",
    "for point in points:\n",
    "    print(point.attrib)"
   ]
  },
  {
   "cell_type": "code",
   "execution_count": null,
   "id": "efff467e",
   "metadata": {},
   "outputs": [],
   "source": []
  }
 ],
 "metadata": {
  "kernelspec": {
   "display_name": "SessionTools",
   "language": "python",
   "name": "python3"
  },
  "language_info": {
   "codemirror_mode": {
    "name": "ipython",
    "version": 3
   },
   "file_extension": ".py",
   "mimetype": "text/x-python",
   "name": "python",
   "nbconvert_exporter": "python",
   "pygments_lexer": "ipython3",
   "version": "3.11.0 | packaged by conda-forge | (main, Oct 25 2022, 06:24:40) [GCC 10.4.0]"
  },
  "vscode": {
   "interpreter": {
    "hash": "3c431136da9c6638588b30e2b30f036dca31bbcf88b046e85169fff06f2cce18"
   }
  }
 },
 "nbformat": 4,
 "nbformat_minor": 5
}
