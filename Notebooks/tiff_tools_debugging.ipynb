{
 "cells": [
  {
   "cell_type": "code",
   "execution_count": 3,
   "metadata": {},
   "outputs": [
    {
     "name": "stdout",
     "output_type": "stream",
     "text": [
      "The autoreload extension is already loaded. To reload it, use:\n",
      "  %reload_ext autoreload\n"
     ]
    }
   ],
   "source": [
    "import pathlib\n",
    "\n",
    "import SessionTools as st\n",
    "import SessionTools.two_photon as st2p\n",
    "\n",
    "%load_ext autoreload\n",
    "%autoreload 2 "
   ]
  },
  {
   "cell_type": "code",
   "execution_count": 5,
   "metadata": {},
   "outputs": [],
   "source": [
    "date = \"22_03_2023\"\n",
    "fly = \"EPG_GCaMP_EL_CsChrimsontdT_fly2\"\n",
    "session = \"dangling_alternating_stim_group1-004\"\n",
    "basedir = pathlib.PurePath(f'/media/mplitt/SSD_storage/2PData/{date}/{fly}/{session}/')\n",
    "basename_input = pathlib.Path(basedir.joinpath(session))\n",
    "metadata = st2p.preprocessing.bruker_metadata.read(basename_input)"
   ]
  },
  {
   "cell_type": "code",
   "execution_count": 28,
   "metadata": {},
   "outputs": [],
   "source": [
    "import os\n",
    "import logging\n",
    "import pathlib\n",
    "\n",
    "import numpy as np\n",
    "import dask\n",
    "from dask import diagnostics\n",
    "import dask.array as da\n",
    "\n",
    "from skimage.io import imread\n",
    "from SessionTools import utilities\n",
    "\n",
    "logger = logging.getLogger(__name__)\n",
    "\n",
    "class TiffToolsError(Exception):\n",
    "    \"\"\"Error while processing tiff files\"\"\"\n",
    "\n",
    "def read(base, size, layout):\n",
    "    \"\"\"Read 2p dataset of TIFF files into a dask.Array.\"\"\"\n",
    "    # shape_yx = (size['y_px'], size['x_px'])\n",
    "    # dtype = read_file(base, 0, channel, 0).dtype\n",
    "\n",
    "    num_cycles, num_z_planes, num_ch = layout['sequences'], size['z_planes'], size['channels']\n",
    "    \n",
    "    def skimread(file):\n",
    "        \"\"\"suppress juliandate reading errors\"\"\"\n",
    "        with utilities.suppress_output(suppress_stderr=True):\n",
    "            return imread(file)\n",
    "    \n",
    "    frame, cycle, ch = 1, 1, 1\n",
    "    sample = skimread(str(base) + f'_Cycle{cycle:05d}_Ch{ch}_{frame:06d}.ome.tif')\n",
    "    if len(sample.shape)==2:\n",
    "        ome_tiff=False\n",
    "    elif len(sample.shape)==3:\n",
    "        ome_tiff=True\n",
    "    else:\n",
    "        raise \"tiff of unknown shape\"\n",
    "        \n",
    "                      \n",
    "    filenames = []\n",
    "    if not ome_tiff:\n",
    "        for cycle in range(1,num_cycles+1):\n",
    "            _filenames = []\n",
    "            for frame in range(1,num_z_planes+1):\n",
    "                _frame = []\n",
    "                for ch in range(1,num_ch+1):\n",
    "                    _frame.append(str(base) + f'_Cycle{cycle:05d}_Ch{ch}_{frame:06d}.ome.tif')\n",
    "                _filenames.append(_frame)\n",
    "            # filenames[cycle].append(str(basename_input) + f'_Cycle{cycle+1:05d}_Ch{channel}_{frame+1:06d}.ome.tif')\n",
    "            filenames.append(_filenames)    \n",
    "    else:\n",
    "        frame=1\n",
    "        for cycle in range(1,num_cycles+1):\n",
    "            _filenames = []\n",
    "            for ch in range(1,num_ch+1):\n",
    "                _frame = str(base) + f'_Cycle{cycle:05d}_Ch{ch}_{frame:06d}.ome.tif'\n",
    "                _filenames.append(_frame)\n",
    "            # filenames[cycle].append(str(basename_input) + f'_Cycle{cycle+1:05d}_Ch{channel}_{frame+1:06d}.ome.tif')\n",
    "            filenames.append(_filenames)   \n",
    "        \n",
    "    \n",
    "    logger.info('Found tiff files (channels: %i, frames: %i, z_planes: %i' % (num_cycles, num_z_planes, num_ch))\n",
    "    \n",
    "    def read_one_image(block_id, filenames=filenames):\n",
    "        # print(block_id)\n",
    "        path = filenames[block_id[1]][block_id[2]][block_id[0]]\n",
    "        image = skimread(path)\n",
    "        return np.expand_dims(image, axis=(0,1,2))\n",
    "    \n",
    "    def read_one_image_ome(block_id, filenames=filenames):\n",
    "        # print(block_id)\n",
    "        path = filenames[block_id[1]][block_id[0]]\n",
    "        image = skimread(path)\n",
    "        return np.expand_dims(image, axis=(0,1))\n",
    "    \n",
    "    logger.info('Mapping dask array...')\n",
    "    if not ome_tiff:\n",
    "        sample = skimread(filenames[0][0][0])\n",
    "        data = da.map_blocks(\n",
    "            read_one_image,\n",
    "            dtype=sample.dtype,\n",
    "            chunks=((1,)*num_ch,\n",
    "                    (1,)*num_cycles, \n",
    "                    (1,)*num_z_planes, \n",
    "                    *sample.shape)\n",
    "            )\n",
    "        \n",
    "    else:\n",
    "        sample = skimread(filenames[0][0])\n",
    "        data = da.map_blocks(\n",
    "            read_one_image_ome,\n",
    "            dtype=sample.dtype,\n",
    "            chunks=((1,)*num_ch,\n",
    "                    (1,)*num_cycles,  \n",
    "                    *sample.shape)\n",
    "            )\n",
    "    logger.info('Completed mapping dask array')\n",
    "    \n",
    "    return data"
   ]
  },
  {
   "cell_type": "code",
   "execution_count": 31,
   "metadata": {},
   "outputs": [],
   "source": [
    "tiff_data = read(basename_input, metadata['size'],metadata['layout'])"
   ]
  },
  {
   "cell_type": "code",
   "execution_count": 32,
   "metadata": {},
   "outputs": [
    {
     "data": {
      "text/plain": [
       "(2, 4166, 8, 202, 234)"
      ]
     },
     "execution_count": 32,
     "metadata": {},
     "output_type": "execute_result"
    }
   ],
   "source": [
    "tiff_data.shape"
   ]
  },
  {
   "cell_type": "code",
   "execution_count": 18,
   "metadata": {},
   "outputs": [
    {
     "name": "stdout",
     "output_type": "stream",
     "text": [
      "['/media/mplitt/SSD_storage/2PData/22_03_2023/EPG_GCaMP_EL_CsChrimsontdT_fly2/dangling_alternating_stim_group1-004/dangling_alternating_stim_group1-004_Cycle00001_Ch1_000001.ome.tif']\n"
     ]
    }
   ],
   "source": [
    "from glob import glob\n",
    "print(glob(str(basename_input)+\"_Cycle00001_Ch1_000001.ome.tif\"))\n",
    "test_tiffname = str(basename_input)+\"_Cycle00001_Ch1_000001.ome.tif\"\n",
    "tiff = imread(test_tiffname)"
   ]
  },
  {
   "cell_type": "code",
   "execution_count": 19,
   "metadata": {},
   "outputs": [
    {
     "data": {
      "text/plain": [
       "(8, 202, 234)"
      ]
     },
     "execution_count": 19,
     "metadata": {},
     "output_type": "execute_result"
    }
   ],
   "source": [
    "tiff.shape"
   ]
  },
  {
   "cell_type": "code",
   "execution_count": 4,
   "metadata": {},
   "outputs": [
    {
     "ename": "NameError",
     "evalue": "name 'metadata' is not defined",
     "output_type": "error",
     "traceback": [
      "\u001b[0;31m---------------------------------------------------------------------------\u001b[0m",
      "\u001b[0;31mNameError\u001b[0m                                 Traceback (most recent call last)",
      "Cell \u001b[0;32mIn[4], line 2\u001b[0m\n\u001b[1;32m      1\u001b[0m base \u001b[39m=\u001b[39m basename_input\n\u001b[0;32m----> 2\u001b[0m layout, size \u001b[39m=\u001b[39m metadata[\u001b[39m'\u001b[39m\u001b[39mlayout\u001b[39m\u001b[39m'\u001b[39m], metadata[\u001b[39m'\u001b[39m\u001b[39msize\u001b[39m\u001b[39m'\u001b[39m]\n\u001b[1;32m      3\u001b[0m num_cycles, num_z_planes, num_ch \u001b[39m=\u001b[39m layout[\u001b[39m'\u001b[39m\u001b[39msequences\u001b[39m\u001b[39m'\u001b[39m], size[\u001b[39m'\u001b[39m\u001b[39mz_planes\u001b[39m\u001b[39m'\u001b[39m], size[\u001b[39m'\u001b[39m\u001b[39mchannels\u001b[39m\u001b[39m'\u001b[39m]\n\u001b[1;32m      5\u001b[0m \u001b[39mdef\u001b[39;00m \u001b[39mskimread\u001b[39m(file):\n",
      "\u001b[0;31mNameError\u001b[0m: name 'metadata' is not defined"
     ]
    }
   ],
   "source": [
    "base = basename_input\n",
    "layout, size = metadata['layout'], metadata['size']\n",
    "num_cycles, num_z_planes, num_ch = layout['sequences'], size['z_planes'], size['channels']\n",
    "    \n",
    "def skimread(file):\n",
    "    \"\"\"suppress juliandate reading errors\"\"\"\n",
    "    with utilities.suppress_output(suppress_stderr=True):\n",
    "        return imread(file)\n",
    "    \n",
    "filenames = []\n",
    "for cycle in range(2,num_cycles+1):\n",
    "    _filenames = []\n",
    "    for frame in range(1,num_z_planes+1):\n",
    "        _frame = []\n",
    "        for ch in range(1,num_ch+1):\n",
    "            _frame.append(str(base) + f'_Cycle{cycle:05d}_Ch{ch}_{frame:06d}.ome.tif')\n",
    "        _filenames.append(_frame)\n",
    "    # filenames[cycle].append(str(basename_input) + f'_Cycle{cycle+1:05d}_Ch{channel}_{frame+1:06d}.ome.tif')\n",
    "    filenames.append(_filenames)    "
   ]
  },
  {
   "cell_type": "code",
   "execution_count": 47,
   "metadata": {},
   "outputs": [],
   "source": [
    "def read_one_image(block_id, filenames=filenames):\n",
    "        # print(block_id)\n",
    "        path = filenames[block_id[1]][block_id[2]][block_id[0]]\n",
    "        image = skimread(path)\n",
    "        return np.expand_dims(image, axis=(0,1,2))"
   ]
  },
  {
   "cell_type": "code",
   "execution_count": 51,
   "metadata": {},
   "outputs": [
    {
     "data": {
      "text/plain": [
       "'/media/mplitt/SSD_storage/2PData/12_16_2022/EPG_GCaMP7f_CsChrimsontdT_fly1/fixed_cw_remapping-000/fixed_cw_remapping-000_Cycle00002_Ch1_000001.ome.tif'"
      ]
     },
     "execution_count": 51,
     "metadata": {},
     "output_type": "execute_result"
    }
   ],
   "source": [
    "filenames[0][0][0]"
   ]
  },
  {
   "cell_type": "code",
   "execution_count": 49,
   "metadata": {},
   "outputs": [],
   "source": [
    "data = imread(filenames[1][0][0])"
   ]
  },
  {
   "cell_type": "code",
   "execution_count": 50,
   "metadata": {},
   "outputs": [
    {
     "data": {
      "text/plain": [
       "(208, 259)"
      ]
     },
     "execution_count": 50,
     "metadata": {},
     "output_type": "execute_result"
    }
   ],
   "source": [
    "data.shape"
   ]
  },
  {
   "cell_type": "code",
   "execution_count": 29,
   "metadata": {},
   "outputs": [
    {
     "ename": "KeyboardInterrupt",
     "evalue": "",
     "output_type": "error",
     "traceback": [
      "\u001b[0;31m---------------------------------------------------------------------------\u001b[0m",
      "\u001b[0;31mKeyboardInterrupt\u001b[0m                         Traceback (most recent call last)",
      "Cell \u001b[0;32mIn[29], line 1\u001b[0m\n\u001b[0;32m----> 1\u001b[0m sample \u001b[39m=\u001b[39m skimread(filenames[\u001b[39m0\u001b[39;49m][\u001b[39m0\u001b[39;49m][\u001b[39m0\u001b[39;49m])\n",
      "Cell \u001b[0;32mIn[27], line 8\u001b[0m, in \u001b[0;36mskimread\u001b[0;34m(file)\u001b[0m\n\u001b[1;32m      6\u001b[0m \u001b[39m\u001b[39m\u001b[39m\"\"\"suppress juliandate reading errors\"\"\"\u001b[39;00m\n\u001b[1;32m      7\u001b[0m \u001b[39mwith\u001b[39;00m utilities\u001b[39m.\u001b[39msuppress_output(suppress_stderr\u001b[39m=\u001b[39m\u001b[39mTrue\u001b[39;00m):\n\u001b[0;32m----> 8\u001b[0m     \u001b[39mreturn\u001b[39;00m imread(file)\n",
      "File \u001b[0;32m~/anaconda3/envs/SessionTools/lib/python3.11/site-packages/skimage/io/_io.py:53\u001b[0m, in \u001b[0;36mimread\u001b[0;34m(fname, as_gray, plugin, **plugin_args)\u001b[0m\n\u001b[1;32m     50\u001b[0m         plugin \u001b[39m=\u001b[39m \u001b[39m'\u001b[39m\u001b[39mtifffile\u001b[39m\u001b[39m'\u001b[39m\n\u001b[1;32m     52\u001b[0m \u001b[39mwith\u001b[39;00m file_or_url_context(fname) \u001b[39mas\u001b[39;00m fname:\n\u001b[0;32m---> 53\u001b[0m     img \u001b[39m=\u001b[39m call_plugin(\u001b[39m'\u001b[39;49m\u001b[39mimread\u001b[39;49m\u001b[39m'\u001b[39;49m, fname, plugin\u001b[39m=\u001b[39;49mplugin, \u001b[39m*\u001b[39;49m\u001b[39m*\u001b[39;49mplugin_args)\n\u001b[1;32m     55\u001b[0m \u001b[39mif\u001b[39;00m \u001b[39mnot\u001b[39;00m \u001b[39mhasattr\u001b[39m(img, \u001b[39m'\u001b[39m\u001b[39mndim\u001b[39m\u001b[39m'\u001b[39m):\n\u001b[1;32m     56\u001b[0m     \u001b[39mreturn\u001b[39;00m img\n",
      "File \u001b[0;32m~/anaconda3/envs/SessionTools/lib/python3.11/site-packages/skimage/io/manage_plugins.py:207\u001b[0m, in \u001b[0;36mcall_plugin\u001b[0;34m(kind, *args, **kwargs)\u001b[0m\n\u001b[1;32m    203\u001b[0m     \u001b[39mexcept\u001b[39;00m \u001b[39mIndexError\u001b[39;00m:\n\u001b[1;32m    204\u001b[0m         \u001b[39mraise\u001b[39;00m \u001b[39mRuntimeError\u001b[39;00m(\u001b[39m'\u001b[39m\u001b[39mCould not find the plugin \u001b[39m\u001b[39m\"\u001b[39m\u001b[39m%s\u001b[39;00m\u001b[39m\"\u001b[39m\u001b[39m for \u001b[39m\u001b[39m%s\u001b[39;00m\u001b[39m.\u001b[39m\u001b[39m'\u001b[39m \u001b[39m%\u001b[39m\n\u001b[1;32m    205\u001b[0m                            (plugin, kind))\n\u001b[0;32m--> 207\u001b[0m \u001b[39mreturn\u001b[39;00m func(\u001b[39m*\u001b[39;49margs, \u001b[39m*\u001b[39;49m\u001b[39m*\u001b[39;49mkwargs)\n",
      "File \u001b[0;32m~/anaconda3/envs/SessionTools/lib/python3.11/site-packages/skimage/io/_plugins/tifffile_plugin.py:30\u001b[0m, in \u001b[0;36mimread\u001b[0;34m(fname, **kwargs)\u001b[0m\n\u001b[1;32m     27\u001b[0m \u001b[39mif\u001b[39;00m \u001b[39m'\u001b[39m\u001b[39mimg_num\u001b[39m\u001b[39m'\u001b[39m \u001b[39min\u001b[39;00m kwargs:\n\u001b[1;32m     28\u001b[0m     kwargs[\u001b[39m'\u001b[39m\u001b[39mkey\u001b[39m\u001b[39m'\u001b[39m] \u001b[39m=\u001b[39m kwargs\u001b[39m.\u001b[39mpop(\u001b[39m'\u001b[39m\u001b[39mimg_num\u001b[39m\u001b[39m'\u001b[39m)\n\u001b[0;32m---> 30\u001b[0m \u001b[39mreturn\u001b[39;00m tifffile_imread(fname, \u001b[39m*\u001b[39;49m\u001b[39m*\u001b[39;49mkwargs)\n",
      "File \u001b[0;32m~/anaconda3/envs/SessionTools/lib/python3.11/site-packages/tifffile/tifffile.py:1032\u001b[0m, in \u001b[0;36mimread\u001b[0;34m(files, aszarr, key, series, level, squeeze, maxworkers, mode, name, offset, size, pattern, axesorder, categories, imread, sort, container, axestiled, ioworkers, chunkmode, fillvalue, zattrs, multiscales, omexml, out, _multifile, _useframes, **kwargs)\u001b[0m\n\u001b[1;32m   1020\u001b[0m                 \u001b[39massert\u001b[39;00m key \u001b[39mis\u001b[39;00m \u001b[39mNone\u001b[39;00m \u001b[39mor\u001b[39;00m \u001b[39misinstance\u001b[39m(key, \u001b[39mint\u001b[39m)\n\u001b[1;32m   1021\u001b[0m                 \u001b[39mreturn\u001b[39;00m tif\u001b[39m.\u001b[39maszarr(\n\u001b[1;32m   1022\u001b[0m                     key\u001b[39m=\u001b[39mkey,\n\u001b[1;32m   1023\u001b[0m                     series\u001b[39m=\u001b[39mseries,\n\u001b[0;32m   (...)\u001b[0m\n\u001b[1;32m   1030\u001b[0m                     multiscales\u001b[39m=\u001b[39mmultiscales,\n\u001b[1;32m   1031\u001b[0m                 )\n\u001b[0;32m-> 1032\u001b[0m             \u001b[39mreturn\u001b[39;00m tif\u001b[39m.\u001b[39;49masarray(\n\u001b[1;32m   1033\u001b[0m                 key\u001b[39m=\u001b[39;49mkey,\n\u001b[1;32m   1034\u001b[0m                 series\u001b[39m=\u001b[39;49mseries,\n\u001b[1;32m   1035\u001b[0m                 level\u001b[39m=\u001b[39;49mlevel,\n\u001b[1;32m   1036\u001b[0m                 squeeze\u001b[39m=\u001b[39;49msqueeze,\n\u001b[1;32m   1037\u001b[0m                 maxworkers\u001b[39m=\u001b[39;49mmaxworkers,\n\u001b[1;32m   1038\u001b[0m                 out\u001b[39m=\u001b[39;49mout,\n\u001b[1;32m   1039\u001b[0m             )\n\u001b[1;32m   1041\u001b[0m \u001b[39melif\u001b[39;00m \u001b[39misinstance\u001b[39m(files, (FileHandle, BinaryIO)):\n\u001b[1;32m   1042\u001b[0m     \u001b[39mraise\u001b[39;00m \u001b[39mValueError\u001b[39;00m(\u001b[39m'\u001b[39m\u001b[39mBinaryIO not supported\u001b[39m\u001b[39m'\u001b[39m)\n",
      "File \u001b[0;32m~/anaconda3/envs/SessionTools/lib/python3.11/site-packages/tifffile/tifffile.py:4052\u001b[0m, in \u001b[0;36mTiffFile.asarray\u001b[0;34m(self, key, series, level, squeeze, out, maxworkers)\u001b[0m\n\u001b[1;32m   4050\u001b[0m \u001b[39melse\u001b[39;00m:\n\u001b[1;32m   4051\u001b[0m     \u001b[39mif\u001b[39;00m \u001b[39mnot\u001b[39;00m \u001b[39misinstance\u001b[39m(series, TiffPageSeries):\n\u001b[0;32m-> 4052\u001b[0m         series \u001b[39m=\u001b[39m \u001b[39mself\u001b[39;49m\u001b[39m.\u001b[39;49mseries[series]\n\u001b[1;32m   4053\u001b[0m     \u001b[39mif\u001b[39;00m level \u001b[39mis\u001b[39;00m \u001b[39mnot\u001b[39;00m \u001b[39mNone\u001b[39;00m:\n\u001b[1;32m   4054\u001b[0m         series \u001b[39m=\u001b[39m series\u001b[39m.\u001b[39mlevels[level]\n",
      "File \u001b[0;32m~/anaconda3/envs/SessionTools/lib/python3.11/functools.py:1001\u001b[0m, in \u001b[0;36mcached_property.__get__\u001b[0;34m(self, instance, owner)\u001b[0m\n\u001b[1;32m    999\u001b[0m val \u001b[39m=\u001b[39m cache\u001b[39m.\u001b[39mget(\u001b[39mself\u001b[39m\u001b[39m.\u001b[39mattrname, _NOT_FOUND)\n\u001b[1;32m   1000\u001b[0m \u001b[39mif\u001b[39;00m val \u001b[39mis\u001b[39;00m _NOT_FOUND:\n\u001b[0;32m-> 1001\u001b[0m     val \u001b[39m=\u001b[39m \u001b[39mself\u001b[39;49m\u001b[39m.\u001b[39;49mfunc(instance)\n\u001b[1;32m   1002\u001b[0m     \u001b[39mtry\u001b[39;00m:\n\u001b[1;32m   1003\u001b[0m         cache[\u001b[39mself\u001b[39m\u001b[39m.\u001b[39mattrname] \u001b[39m=\u001b[39m val\n",
      "File \u001b[0;32m~/anaconda3/envs/SessionTools/lib/python3.11/site-packages/tifffile/tifffile.py:4224\u001b[0m, in \u001b[0;36mTiffFile.series\u001b[0;34m(self)\u001b[0m\n\u001b[1;32m   4206\u001b[0m \u001b[39mfor\u001b[39;00m name \u001b[39min\u001b[39;00m (\n\u001b[1;32m   4207\u001b[0m     \u001b[39m'\u001b[39m\u001b[39mshaped\u001b[39m\u001b[39m'\u001b[39m,\n\u001b[1;32m   4208\u001b[0m     \u001b[39m'\u001b[39m\u001b[39mlsm\u001b[39m\u001b[39m'\u001b[39m,\n\u001b[0;32m   (...)\u001b[0m\n\u001b[1;32m   4221\u001b[0m     \u001b[39m'\u001b[39m\u001b[39muniform\u001b[39m\u001b[39m'\u001b[39m,\n\u001b[1;32m   4222\u001b[0m ):\n\u001b[1;32m   4223\u001b[0m     \u001b[39mif\u001b[39;00m \u001b[39mgetattr\u001b[39m(\u001b[39mself\u001b[39m, \u001b[39m'\u001b[39m\u001b[39mis_\u001b[39m\u001b[39m'\u001b[39m \u001b[39m+\u001b[39m name, \u001b[39mFalse\u001b[39;00m):\n\u001b[0;32m-> 4224\u001b[0m         series \u001b[39m=\u001b[39m \u001b[39mgetattr\u001b[39;49m(\u001b[39mself\u001b[39;49m, \u001b[39m'\u001b[39;49m\u001b[39m_series_\u001b[39;49m\u001b[39m'\u001b[39;49m \u001b[39m+\u001b[39;49m name)()\n\u001b[1;32m   4225\u001b[0m         \u001b[39mif\u001b[39;00m \u001b[39mnot\u001b[39;00m series \u001b[39mand\u001b[39;00m name \u001b[39m==\u001b[39m \u001b[39m'\u001b[39m\u001b[39mome\u001b[39m\u001b[39m'\u001b[39m \u001b[39mand\u001b[39;00m \u001b[39mself\u001b[39m\u001b[39m.\u001b[39mis_imagej:\n\u001b[1;32m   4226\u001b[0m             \u001b[39m# try ImageJ series if OME series fails.\u001b[39;00m\n\u001b[1;32m   4227\u001b[0m             \u001b[39m# clear pages cache since _series_ome() might leave some\u001b[39;00m\n\u001b[1;32m   4228\u001b[0m             \u001b[39m# frames without keyframe\u001b[39;00m\n\u001b[1;32m   4229\u001b[0m             \u001b[39mself\u001b[39m\u001b[39m.\u001b[39mpages\u001b[39m.\u001b[39m_clear()\n",
      "File \u001b[0;32m~/anaconda3/envs/SessionTools/lib/python3.11/site-packages/tifffile/tifffile.py:5312\u001b[0m, in \u001b[0;36mTiffFile._series_ome\u001b[0;34m(self)\u001b[0m\n\u001b[1;32m   5310\u001b[0m fname \u001b[39m=\u001b[39m uuid\u001b[39m.\u001b[39mattrib[\u001b[39m'\u001b[39m\u001b[39mFileName\u001b[39m\u001b[39m'\u001b[39m]\n\u001b[1;32m   5311\u001b[0m \u001b[39mtry\u001b[39;00m:\n\u001b[0;32m-> 5312\u001b[0m     tif \u001b[39m=\u001b[39m TiffFile(\n\u001b[1;32m   5313\u001b[0m         os\u001b[39m.\u001b[39;49mpath\u001b[39m.\u001b[39;49mjoin(dirname, fname), _parent\u001b[39m=\u001b[39;49m\u001b[39mself\u001b[39;49m\n\u001b[1;32m   5314\u001b[0m     )\n\u001b[1;32m   5315\u001b[0m     tif\u001b[39m.\u001b[39mpages\u001b[39m.\u001b[39mcache \u001b[39m=\u001b[39m \u001b[39mTrue\u001b[39;00m\n\u001b[1;32m   5316\u001b[0m     tif\u001b[39m.\u001b[39mpages\u001b[39m.\u001b[39museframes \u001b[39m=\u001b[39m \u001b[39mTrue\u001b[39;00m\n",
      "File \u001b[0;32m~/anaconda3/envs/SessionTools/lib/python3.11/site-packages/tifffile/tifffile.py:3897\u001b[0m, in \u001b[0;36mTiffFile.__init__\u001b[0;34m(self, file, mode, name, offset, size, omexml, _multifile, _useframes, _parent, **is_flags)\u001b[0m\n\u001b[1;32m   3894\u001b[0m     \u001b[39mraise\u001b[39;00m TiffFileError(\u001b[39mf\u001b[39m\u001b[39m'\u001b[39m\u001b[39minvalid TIFF version \u001b[39m\u001b[39m{\u001b[39;00mversion\u001b[39m}\u001b[39;00m\u001b[39m'\u001b[39m)\n\u001b[1;32m   3896\u001b[0m \u001b[39m# file handle is at offset to offset to first page\u001b[39;00m\n\u001b[0;32m-> 3897\u001b[0m \u001b[39mself\u001b[39m\u001b[39m.\u001b[39mpages \u001b[39m=\u001b[39m TiffPages(\u001b[39mself\u001b[39;49m)\n\u001b[1;32m   3899\u001b[0m \u001b[39mif\u001b[39;00m \u001b[39mself\u001b[39m\u001b[39m.\u001b[39mis_lsm \u001b[39mand\u001b[39;00m (\n\u001b[1;32m   3900\u001b[0m     \u001b[39mself\u001b[39m\u001b[39m.\u001b[39mfilehandle\u001b[39m.\u001b[39msize \u001b[39m>\u001b[39m\u001b[39m=\u001b[39m \u001b[39m2\u001b[39m\u001b[39m*\u001b[39m\u001b[39m*\u001b[39m\u001b[39m32\u001b[39m\n\u001b[1;32m   3901\u001b[0m     \u001b[39mor\u001b[39;00m \u001b[39mself\u001b[39m\u001b[39m.\u001b[39mpages[\u001b[39m0\u001b[39m]\u001b[39m.\u001b[39mcompression \u001b[39m!=\u001b[39m \u001b[39m1\u001b[39m\n\u001b[1;32m   3902\u001b[0m     \u001b[39mor\u001b[39;00m \u001b[39mself\u001b[39m\u001b[39m.\u001b[39mpages[\u001b[39m1\u001b[39m]\u001b[39m.\u001b[39mcompression \u001b[39m!=\u001b[39m \u001b[39m1\u001b[39m\n\u001b[1;32m   3903\u001b[0m ):\n\u001b[1;32m   3904\u001b[0m     \u001b[39mself\u001b[39m\u001b[39m.\u001b[39m_lsm_load_pages()\n",
      "File \u001b[0;32m~/anaconda3/envs/SessionTools/lib/python3.11/site-packages/tifffile/tifffile.py:6482\u001b[0m, in \u001b[0;36mTiffPages.__init__\u001b[0;34m(self, arg, index)\u001b[0m\n\u001b[1;32m   6480\u001b[0m \u001b[39m# read and cache first page\u001b[39;00m\n\u001b[1;32m   6481\u001b[0m fh\u001b[39m.\u001b[39mseek(offset)\n\u001b[0;32m-> 6482\u001b[0m page \u001b[39m=\u001b[39m TiffPage(\u001b[39mself\u001b[39;49m\u001b[39m.\u001b[39;49mparent, index\u001b[39m=\u001b[39;49mpageindex)\n\u001b[1;32m   6483\u001b[0m \u001b[39mself\u001b[39m\u001b[39m.\u001b[39mpages\u001b[39m.\u001b[39mappend(page)\n\u001b[1;32m   6484\u001b[0m \u001b[39mself\u001b[39m\u001b[39m.\u001b[39m_keyframe \u001b[39m=\u001b[39m page\n",
      "File \u001b[0;32m~/anaconda3/envs/SessionTools/lib/python3.11/site-packages/tifffile/tifffile.py:7119\u001b[0m, in \u001b[0;36mTiffPage.__init__\u001b[0;34m(self, parent, index, keyframe)\u001b[0m\n\u001b[1;32m   7117\u001b[0m tagdata \u001b[39m=\u001b[39m data[tagindex : tagindex \u001b[39m+\u001b[39m tagsize]\n\u001b[1;32m   7118\u001b[0m \u001b[39mtry\u001b[39;00m:\n\u001b[0;32m-> 7119\u001b[0m     tag \u001b[39m=\u001b[39m TiffTag\u001b[39m.\u001b[39;49mfromfile(\n\u001b[1;32m   7120\u001b[0m         parent, offset\u001b[39m=\u001b[39;49mtagoffset \u001b[39m+\u001b[39;49m i \u001b[39m*\u001b[39;49m tagsize_, header\u001b[39m=\u001b[39;49mtagdata\n\u001b[1;32m   7121\u001b[0m     )\n\u001b[1;32m   7122\u001b[0m \u001b[39mexcept\u001b[39;00m TiffFileError \u001b[39mas\u001b[39;00m exc:\n\u001b[1;32m   7123\u001b[0m     log_warning(\u001b[39mf\u001b[39m\u001b[39m'\u001b[39m\u001b[39m{\u001b[39;00m\u001b[39mself\u001b[39m\u001b[39m!r}\u001b[39;00m\u001b[39m \u001b[39m\u001b[39m{\u001b[39;00mexc\u001b[39m}\u001b[39;00m\u001b[39m'\u001b[39m)\n",
      "File \u001b[0;32m~/anaconda3/envs/SessionTools/lib/python3.11/site-packages/tifffile/tifffile.py:9953\u001b[0m, in \u001b[0;36mTiffTag.fromfile\u001b[0;34m(cls, parent, offset, header, validate)\u001b[0m\n\u001b[1;32m   9949\u001b[0m     value \u001b[39m=\u001b[39m struct\u001b[39m.\u001b[39munpack(fmt, value[:valuesize])\n\u001b[1;32m   9951\u001b[0m value \u001b[39m=\u001b[39m TiffTag\u001b[39m.\u001b[39m_process_value(value, code, dtype, offset)\n\u001b[0;32m-> 9953\u001b[0m \u001b[39mreturn\u001b[39;00m \u001b[39mcls\u001b[39;49m(parent, offset, code, dtype, count, value, valueoffset)\n",
      "File \u001b[0;32m~/anaconda3/envs/SessionTools/lib/python3.11/site-packages/tifffile/tifffile.py:9846\u001b[0m, in \u001b[0;36mTiffTag.__init__\u001b[0;34m(self, parent, offset, code, dtype, count, value, valueoffset)\u001b[0m\n\u001b[1;32m   9844\u001b[0m \u001b[39mself\u001b[39m\u001b[39m.\u001b[39mvalueoffset \u001b[39m=\u001b[39m valueoffset\n\u001b[1;32m   9845\u001b[0m \u001b[39mtry\u001b[39;00m:\n\u001b[0;32m-> 9846\u001b[0m     \u001b[39mself\u001b[39m\u001b[39m.\u001b[39mdtype \u001b[39m=\u001b[39m DATATYPE(dtype)\n\u001b[1;32m   9847\u001b[0m \u001b[39mexcept\u001b[39;00m \u001b[39mValueError\u001b[39;00m:\n\u001b[1;32m   9848\u001b[0m     \u001b[39mself\u001b[39m\u001b[39m.\u001b[39mdtype \u001b[39m=\u001b[39m \u001b[39mint\u001b[39m(dtype)\n",
      "\u001b[0;31mKeyboardInterrupt\u001b[0m: "
     ]
    }
   ],
   "source": [
    "sample = skimread(filenames[0][0][0])"
   ]
  },
  {
   "cell_type": "code",
   "execution_count": 9,
   "metadata": {},
   "outputs": [],
   "source": [
    "tiff_data = st.two_photon.tiff_tools.read(basename_input, \n",
    "                                          metadata['size'],metadata['layout'])"
   ]
  },
  {
   "cell_type": "code",
   "execution_count": 10,
   "metadata": {},
   "outputs": [
    {
     "data": {
      "text/plain": [
       "(2, 3280, 7, 208, 259)"
      ]
     },
     "execution_count": 10,
     "metadata": {},
     "output_type": "execute_result"
    }
   ],
   "source": [
    "tiff_data.shape"
   ]
  },
  {
   "cell_type": "code",
   "execution_count": null,
   "metadata": {},
   "outputs": [
    {
     "name": "stdout",
     "output_type": "stream",
     "text": [
      "[########################################] | 100% Completed | 152.50 s\n"
     ]
    }
   ],
   "source": [
    "tiff_data = st.two_photon.tiff_tools.read(basename_input, \n",
    "                                          metadata['size'],metadata['layout'])\n",
    "st.two_photon.tiff_tools.convert_to_hdf5(tiff_data,'/media/mplitt/SSD_storage/2P_scratch/test.h5')"
   ]
  }
 ],
 "metadata": {
  "kernelspec": {
   "display_name": "Python 3 (ipykernel)",
   "language": "python",
   "name": "python3"
  },
  "language_info": {
   "codemirror_mode": {
    "name": "ipython",
    "version": 3
   },
   "file_extension": ".py",
   "mimetype": "text/x-python",
   "name": "python",
   "nbconvert_exporter": "python",
   "pygments_lexer": "ipython3",
   "version": "3.10.8"
  },
  "vscode": {
   "interpreter": {
    "hash": "916dbcbb3f70747c44a77c7bcd40155683ae19c65e1c03b4aa3499c5328201f1"
   }
  }
 },
 "nbformat": 4,
 "nbformat_minor": 4
}
