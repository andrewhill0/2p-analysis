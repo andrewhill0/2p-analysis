{
 "cells": [
  {
   "cell_type": "code",
   "execution_count": 1,
   "id": "28725ac1-2554-4948-b49d-8711ea649868",
   "metadata": {},
   "outputs": [],
   "source": [
    "import pathlib\n",
    "import os\n",
    "\n",
    "import h5py\n",
    "import pandas as pd\n",
    "import json\n",
    "import numpy as np\n",
    "import scipy as sp\n",
    "from matplotlib import pyplot as plt\n",
    "import dask.array as da\n",
    "import dask.dataframe as dd\n",
    "import skimage \n",
    "\n",
    "\n",
    "import SessionTools.two_photon as st2p\n",
    "\n",
    "\n",
    "%load_ext autoreload\n",
    "%autoreload 2 \n",
    "\n",
    "%matplotlib inline"
   ]
  },
  {
   "cell_type": "code",
   "execution_count": 11,
   "id": "5c95c126-eaf9-4218-bf9b-f6b6ecea83f4",
   "metadata": {
    "tags": []
   },
   "outputs": [
    {
     "name": "stdout",
     "output_type": "stream",
     "text": [
      "(226, 315)\n",
      "[########################################] | 100% Completed | 101.87 s\n"
     ]
    }
   ],
   "source": [
    "date = \"02_08_2023\"\n",
    "fly = \"EPG_jGCaMP7f_CsChrimsontdT_fly4\"\n",
    "session = 'remap_180deg-003'\n",
    "basedir = pathlib.PurePath(f'/media/mplitt/SSD_storage/2PData/{date}/{fly}/{session}/')\n",
    "basename_input = pathlib.Path(basedir.joinpath(session))\n",
    "metadata = st2p.preprocessing.bruker_metadata.read(basename_input)\n",
    "\n",
    "h5name = f'/media/mplitt/SSD_storage/2P_scratch/{date}/{fly}/{session}/data.h5'\n",
    "if not os.path.exists(h5name):\n",
    "    tiff_data = st2p.preprocessing.tiff_tools.read(basename_input, \n",
    "                                            metadata['size'],metadata['layout'],first_chan=1)\n",
    "    st2p.preprocessing.tiff_tools.convert_to_hdf5(tiff_data,h5name, overwrite=True)"
   ]
  },
  {
   "cell_type": "code",
   "execution_count": 6,
   "id": "9a2dde0d-b836-4a45-a5eb-b27eac04881a",
   "metadata": {},
   "outputs": [
    {
     "name": "stdout",
     "output_type": "stream",
     "text": [
      "(196, 430)\n",
      "[########################################] | 100% Completed | 38.44 s\n"
     ]
    }
   ],
   "source": [
    "date = \"28_10_2023\"\n",
    "genotype = \"ER4d_sytjGCaMP7f_CsChrimsontdT\"\n",
    "fly = \"fly1\"\n",
    "session = 'picrotoxin_curare_Lbulb_stim-003'\n",
    "basedir = pathlib.PurePath(f'/media/mplitt/SSD_storage/2PData/{genotype}/{date}/{fly}/{session}/')\n",
    "basename_input = pathlib.Path(basedir.joinpath(session))\n",
    "metadata = st2p.preprocessing.bruker_metadata.read(basename_input)\n",
    "\n",
    "h5name = f'/media/mplitt/SSD_storage/2P_scratch/{genotype}/{date}/{fly}/{session}/data.h5'\n",
    "if not os.path.exists(h5name):\n",
    "    tiff_data = st2p.preprocessing.tiff_tools.read(basename_input, \n",
    "                                            metadata['size'],metadata['layout'], first_chan=1)\n",
    "    st2p.preprocessing.tiff_tools.convert_to_hdf5(tiff_data,h5name, overwrite=True)"
   ]
  },
  {
   "cell_type": "code",
   "execution_count": null,
   "id": "6435f076-4eac-4cd5-9e4e-09a2e9790f46",
   "metadata": {},
   "outputs": [],
   "source": []
  }
 ],
 "metadata": {
  "kernelspec": {
   "display_name": "Python 3 (ipykernel)",
   "language": "python",
   "name": "python3"
  },
  "language_info": {
   "codemirror_mode": {
    "name": "ipython",
    "version": 3
   },
   "file_extension": ".py",
   "mimetype": "text/x-python",
   "name": "python",
   "nbconvert_exporter": "python",
   "pygments_lexer": "ipython3",
   "version": "3.10.8"
  }
 },
 "nbformat": 4,
 "nbformat_minor": 5
}
