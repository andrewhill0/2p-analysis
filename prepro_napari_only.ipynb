{
 "cells": [
  {
   "cell_type": "code",
   "execution_count": null,
   "id": "a5ce5ba2",
   "metadata": {},
   "outputs": [],
   "source": [
    "import numpy as np\n",
    "import napari"
   ]
  },
  {
   "cell_type": "code",
   "execution_count": null,
   "id": "bdd063ee",
   "metadata": {},
   "outputs": [],
   "source": [
    "nap_stack = np.load(r'/Users/andrewhill/py/2p-analysis/napari-stack-txfr/nap-stack.npy')\n",
    "nap_stack.shape"
   ]
  },
  {
   "cell_type": "code",
   "execution_count": 8,
   "id": "fcf09e31",
   "metadata": {},
   "outputs": [],
   "source": [
    "viewer1 = napari.Viewer()\n",
    "new_layer1 = viewer1.add_image(nap_stack)\n",
    "\n",
    "# maxprojstack = np.max(data_corr, axis=2)\n",
    "# viewer2 = napari.Viewer()\n",
    "# new_layer2 = viewer2.add_image(maxprojstack.mean(axis = 1))"
   ]
  }
 ],
 "metadata": {
  "kernelspec": {
   "display_name": "SessionTools",
   "language": "python",
   "name": "python3"
  },
  "language_info": {
   "codemirror_mode": {
    "name": "ipython",
    "version": 3
   },
   "file_extension": ".py",
   "mimetype": "text/x-python",
   "name": "python",
   "nbconvert_exporter": "python",
   "pygments_lexer": "ipython3",
   "version": "3.11.13"
  }
 },
 "nbformat": 4,
 "nbformat_minor": 5
}
